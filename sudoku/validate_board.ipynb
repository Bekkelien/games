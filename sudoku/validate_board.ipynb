{
 "cells": [
  {
   "cell_type": "code",
   "execution_count": 20,
   "metadata": {},
   "outputs": [],
   "source": [
    "import random\n",
    "import numpy as np"
   ]
  },
  {
   "cell_type": "code",
   "execution_count": 21,
   "metadata": {},
   "outputs": [
    {
     "data": {
      "text/plain": [
       "array([[0, 0, 7, 0, 1, 0, 0, 0, 8],\n",
       "       [3, 5, 0, 0, 0, 0, 0, 0, 0],\n",
       "       [0, 8, 0, 0, 0, 0, 0, 0, 0],\n",
       "       [1, 0, 0, 5, 7, 4, 0, 0, 0],\n",
       "       [0, 0, 0, 0, 0, 0, 0, 0, 2],\n",
       "       [5, 0, 9, 0, 0, 0, 4, 0, 0],\n",
       "       [0, 0, 1, 0, 0, 0, 4, 0, 0],\n",
       "       [0, 6, 4, 0, 0, 0, 0, 5, 0],\n",
       "       [0, 0, 0, 0, 0, 0, 2, 0, 0]], dtype=int8)"
      ]
     },
     "execution_count": 21,
     "metadata": {},
     "output_type": "execute_result"
    }
   ],
   "source": [
    "class CreateSudoku:\n",
    "    def __init__(self):\n",
    "        self.base_difficulty = 20 \n",
    "        self.board = np.zeros((9*9), dtype = np.int8)\n",
    "    \n",
    "    def create_board(self, difficulty = 0) -> list: # Slow\n",
    "        index = random.sample(range(1, 9*9), self.base_difficulty-difficulty)\n",
    "        for idx in index:\n",
    "            np.put(self.board, idx, random.randint(1,9))\n",
    "        \n",
    "        self.board = self.board.reshape(9,9)\n",
    "        return self.board\n",
    "\n",
    "board = CreateSudoku().create_board()\n",
    "board"
   ]
  },
  {
   "cell_type": "code",
   "execution_count": 22,
   "metadata": {},
   "outputs": [
    {
     "name": "stdout",
     "output_type": "stream",
     "text": [
      "False\n"
     ]
    }
   ],
   "source": [
    "class Solution:\n",
    "    def __init__(self, board):\n",
    "        self.blank = 0\n",
    "        self.invalid = \"\"\n",
    "        self.board = np.array(board, dtype = np.int8)\n",
    "    \n",
    "    def check_solution(self) -> bool:\n",
    "        for index, row in enumerate(self.board):\n",
    "            row = np.delete(row, np.where(row == self.blank))\n",
    "            if len (row) != len(set(row)): \n",
    "                #self.invalid = f\"Invalid number in row: {index}\"\n",
    "                return False\n",
    "\n",
    "        for index, columns in enumerate(self.board.T):\n",
    "            columns = np.delete(columns, np.where(columns == self.blank))\n",
    "            if len (columns) != len(set(columns)): \n",
    "                #self.invalid = f\"Invalid number in colum: {index}\"\n",
    "                return False\n",
    "\n",
    "        #index = 0\n",
    "        for i in range(0,9,3):\n",
    "            for j in range(0,9,3):\n",
    "                #index += 1\n",
    "                box = self.board[i:i+3,j:j+3].flatten()\n",
    "                box = np.delete(box, np.where(box == self.blank))\n",
    "                if len(box) != len(set(box)): \n",
    "                    #self.invalid = f\"Invalid number in box: {index}\"\n",
    "                    return False\n",
    "        return True\n",
    "\n",
    "solution = Solution(board)\n",
    "print(solution.check_solution())"
   ]
  },
  {
   "cell_type": "code",
   "execution_count": 25,
   "metadata": {},
   "outputs": [
    {
     "name": "stdout",
     "output_type": "stream",
     "text": [
      "Created: 645 valid boards per second\n",
      "Created: 14411 invalid boards per second\n",
      "Valid board do not mean that we can guarantee that a board have a solution\n"
     ]
    }
   ],
   "source": [
    "import time\n",
    "start = time.time()\n",
    "t,valid,invalid = 2,0,0\n",
    "while True: # Can be infinite loop\n",
    "    board = CreateSudoku().create_board(difficulty=5)\n",
    "    solution = Solution(board).check_solution()\n",
    "    if solution == True:\n",
    "        valid += 1\n",
    "    else:\n",
    "        invalid += 1\n",
    "        \n",
    "    current_t = time.time() - start\n",
    "    if current_t > t: \n",
    "        break\n",
    "\n",
    "print(f\"Created: {valid} valid boards per second\")\n",
    "print(f\"Created: {invalid} invalid boards per second\")\n",
    "print(\"Valid board do not mean that we can guarantee that a board have a solution\")\n",
    "#print(board)"
   ]
  }
 ],
 "metadata": {
  "kernelspec": {
   "display_name": "Python 3.10.7 ('venv': venv)",
   "language": "python",
   "name": "python3"
  },
  "language_info": {
   "codemirror_mode": {
    "name": "ipython",
    "version": 3
   },
   "file_extension": ".py",
   "mimetype": "text/x-python",
   "name": "python",
   "nbconvert_exporter": "python",
   "pygments_lexer": "ipython3",
   "version": "3.10.7"
  },
  "orig_nbformat": 4,
  "vscode": {
   "interpreter": {
    "hash": "d6c108a6d510f5c3d85da610a964296d15649d8dd10af6deb4622caa68588b6211a9"
   }
  }
 },
 "nbformat": 4,
 "nbformat_minor": 2
}
