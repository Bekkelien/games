{
 "cells": [
  {
   "cell_type": "code",
   "execution_count": 1,
   "metadata": {},
   "outputs": [],
   "source": [
    "import numpy as  np \n",
    "from dataclasses import dataclass"
   ]
  },
  {
   "cell_type": "code",
   "execution_count": 2,
   "metadata": {},
   "outputs": [],
   "source": [
    "@dataclass\n",
    "class Direction():\n",
    "    UP = 1\n",
    "    DOWN = 2\n",
    "    RIGHT = 3\n",
    "    LEFT = 4\n",
    "\n",
    "@dataclass\n",
    "class Player1Direction():\n",
    "    STATIC = 0\n",
    "    UP = 1\n",
    "    DOWN = 2\n",
    "\n",
    "@dataclass\n",
    "class Player2Direction():\n",
    "    STATIC = 0\n",
    "    UP = 1\n",
    "    DOWN = 2"
   ]
  },
  {
   "cell_type": "code",
   "execution_count": 3,
   "metadata": {},
   "outputs": [
    {
     "data": {
      "text/plain": [
       "[2, 4]"
      ]
     },
     "execution_count": 3,
     "metadata": {},
     "output_type": "execute_result"
    }
   ],
   "source": [
    "# Starting direction\n",
    "direction = [Direction.DOWN, Direction.LEFT]\n",
    "direction"
   ]
  },
  {
   "cell_type": "code",
   "execution_count": 4,
   "metadata": {},
   "outputs": [],
   "source": [
    "# Starting player direction\n",
    "player1_direction = Player1Direction.STATIC\n",
    "player2_direction = Player2Direction.STATIC\n"
   ]
  },
  {
   "cell_type": "code",
   "execution_count": 5,
   "metadata": {},
   "outputs": [],
   "source": [
    "# CONFIG\n",
    "BALL = 5\n",
    "\n",
    "PLAYER_1 = 1\n",
    "PLAYER_2 = 2\n",
    "BOARD_SIZE = 10\n",
    "MID = int(BOARD_SIZE/2)\n",
    "\n",
    "WALL = 10\n",
    "WALL_SIDES = 20"
   ]
  },
  {
   "cell_type": "code",
   "execution_count": 6,
   "metadata": {},
   "outputs": [
    {
     "data": {
      "text/plain": [
       "array([[20,  0, 10, 10, 10, 10, 10, 10,  0, 20],\n",
       "       [20,  0,  0,  0,  0,  0,  0,  0,  0, 20],\n",
       "       [20,  0,  0,  0,  0,  0,  0,  0,  0, 20],\n",
       "       [20,  0,  0,  0,  0,  0,  0,  0,  0, 20],\n",
       "       [20,  1,  0,  0,  0,  0,  0,  0,  2, 20],\n",
       "       [20,  1,  0,  0,  0,  0,  0,  0,  2, 20],\n",
       "       [20,  0,  0,  0,  0,  0,  5,  0,  0, 20],\n",
       "       [20,  0,  0,  0,  0,  0,  0,  0,  0, 20],\n",
       "       [20,  0,  0,  0,  0,  0,  0,  0,  0, 20],\n",
       "       [20,  0, 10, 10, 10, 10, 10, 10,  0, 20]], dtype=int8)"
      ]
     },
     "execution_count": 6,
     "metadata": {},
     "output_type": "execute_result"
    }
   ],
   "source": [
    "def create_map():\n",
    "    map = np.zeros((BOARD_SIZE,BOARD_SIZE),dtype=np.int8)\n",
    "    # Add walls\n",
    "    map[[0,-1],2:-2] = WALL\n",
    "    map[:,[0,-1]] = WALL_SIDES\n",
    "    #map[0,1],map[-1,1],map[0,-2],map[-1,-2] = 100,100,100,100\n",
    "\n",
    "    # Add ball\n",
    "    map[MID+1,MID+1] = 5\n",
    "\n",
    "    # Add players\n",
    "    #map[-3:-1,1] = PLAYER_1\n",
    "    map[MID-1:MID+1,1] = PLAYER_1\n",
    "    map[MID-1:MID+1,-2] = PLAYER_2\n",
    "    return map\n",
    "\n",
    "map = create_map()\n",
    "map"
   ]
  },
  {
   "cell_type": "code",
   "execution_count": 7,
   "metadata": {},
   "outputs": [],
   "source": [
    "# Remove hardcoded when tested\n",
    "def game_logic(direction):\n",
    "    # Game over check\n",
    "    if 25 in map:\n",
    "        print(\"Game over!\")\n",
    "        return False\n",
    "    \n",
    "    # Check wall hits\n",
    "    if 15 in map:\n",
    "        if Direction.DOWN == direction[0]: direction[0] = Direction.UP\n",
    "        else: direction[0] = Direction.DOWN      \n",
    "        return direction\n",
    "\n",
    "    if 5 == map[0,1] or 5 == map[-1,1] or 5 == map[0,-2] or 5 == map[-1,-2]: # Edge case\n",
    "        print(\"Edge case!\")\n",
    "        if Direction.DOWN == direction[0]: direction[0] = Direction.UP\n",
    "        else: direction[0] = Direction.DOWN\n",
    "        if Direction.RIGHT == direction[1]: direction[1] = Direction.LEFT\n",
    "        else: direction[1] = Direction.RIGHT\n",
    "        return direction\n",
    "    elif 6 in map or 7 in map:\n",
    "        if Direction.RIGHT == direction[1]: direction[1] = Direction.LEFT\n",
    "        else: direction[1] = Direction.RIGHT\n",
    "        return direction\n",
    "    \n",
    "    return direction\n",
    "    \n"
   ]
  },
  {
   "cell_type": "code",
   "execution_count": 8,
   "metadata": {},
   "outputs": [],
   "source": [
    "def get_ball_position(map):\n",
    "    for i in [5,6,7,15]:#,101,102]:\n",
    "        if i in map: \n",
    "            index_ball = np.where(map == i)\n",
    "            return map, index_ball#([int(index_ball[0]),int(index_ball[1])])\n"
   ]
  },
  {
   "cell_type": "code",
   "execution_count": 9,
   "metadata": {},
   "outputs": [],
   "source": [
    "def move_ball(map, direction, index_ball):\n",
    "    if Direction.RIGHT == direction[1] and Direction.DOWN == direction[0]: map[index_ball[0]+1,index_ball[1]+1] += 5\n",
    "    if Direction.LEFT == direction[1] and Direction.DOWN == direction[0]: map[index_ball[0]+1,index_ball[1]-1] += 5\n",
    "    if Direction.RIGHT == direction[1] and Direction.UP == direction[0]: map[index_ball[0]-1,index_ball[1]+1] += 5\n",
    "    if Direction.LEFT == direction[1] and Direction.UP == direction[0]: map[index_ball[0]-1,index_ball[1]-1] += 5\n",
    "\n",
    "    # Recover old positions when hitting somthing\n",
    "    if map[index_ball[0],index_ball[1]][0] == 5:   \n",
    "        map[index_ball[0],index_ball[1]] = 0\n",
    "\n",
    "    elif map[index_ball[0],index_ball[1]][0] == 6:   \n",
    "        map[index_ball[0],index_ball[1]] = 1\n",
    "    \n",
    "    elif map[index_ball[0],index_ball[1]][0] == 7:   \n",
    "        map[index_ball[0],index_ball[1]] = 2\n",
    "        \n",
    "    else:\n",
    "        map[index_ball[0],index_ball[1]] = 10\n",
    "\n",
    "    return map"
   ]
  },
  {
   "cell_type": "code",
   "execution_count": 10,
   "metadata": {},
   "outputs": [
    {
     "data": {
      "text/plain": [
       "([2, 4],\n",
       " array([[20,  0, 10, 10, 10, 10, 10, 10,  0, 20],\n",
       "        [20,  0,  0,  0,  0,  0,  0,  0,  0, 20],\n",
       "        [20,  0,  0,  0,  0,  0,  0,  0,  0, 20],\n",
       "        [20,  0,  0,  0,  0,  0,  0,  0,  0, 20],\n",
       "        [20,  1,  0,  0,  0,  0,  0,  0,  2, 20],\n",
       "        [20,  1,  0,  0,  0,  0,  0,  0,  2, 20],\n",
       "        [20,  0,  0,  0,  0,  0,  0,  0,  0, 20],\n",
       "        [20,  0,  0,  0,  0,  5,  0,  0,  0, 20],\n",
       "        [20,  0,  0,  0,  0,  0,  0,  0,  0, 20],\n",
       "        [20,  0, 10, 10, 10, 10, 10, 10,  0, 20]], dtype=int8))"
      ]
     },
     "execution_count": 10,
     "metadata": {},
     "output_type": "execute_result"
    }
   ],
   "source": [
    "\n",
    "direction = game_logic(direction)\n",
    "if direction != False:\n",
    "    map, index_ball = get_ball_position(map)\n",
    "    map = move_ball(map, direction, index_ball)\n",
    "    \n",
    "direction, map"
   ]
  },
  {
   "cell_type": "code",
   "execution_count": 11,
   "metadata": {},
   "outputs": [
    {
     "data": {
      "text/plain": [
       "array([[20,  0, 10, 10, 10, 10, 10, 10,  0, 20],\n",
       "       [20,  0,  0,  0,  0,  0,  0,  0,  0, 20],\n",
       "       [20,  0,  0,  0,  0,  0,  0,  0,  0, 20],\n",
       "       [20,  1,  0,  0,  0,  0,  0,  0,  0, 20],\n",
       "       [20,  1,  0,  0,  0,  0,  0,  0,  0, 20],\n",
       "       [20,  0,  0,  0,  0,  0,  0,  0,  2, 20],\n",
       "       [20,  0,  0,  0,  0,  0,  0,  0,  2, 20],\n",
       "       [20,  0,  0,  0,  0,  5,  0,  0,  0, 20],\n",
       "       [20,  0,  0,  0,  0,  0,  0,  0,  0, 20],\n",
       "       [20,  0, 10, 10, 10, 10, 10, 10,  0, 20]], dtype=int8)"
      ]
     },
     "execution_count": 11,
     "metadata": {},
     "output_type": "execute_result"
    }
   ],
   "source": [
    "def move_player(map, player, player_direction):\n",
    "    \" Move player x up or down\"\n",
    "\n",
    "    if player == PLAYER_1:  \n",
    "        if len(np.where(map[0,1] == 1)[0]) > 0 and player_direction == 1:\n",
    "            #print(\"Invalid move\")\n",
    "            return map\n",
    "        elif len(np.where(map[-1,1] == 1)[0]) > 0 and player_direction == 2:   \n",
    "            #print(\"Invalid move\")\n",
    "            return map\n",
    "\n",
    "    else:\n",
    "        if len(np.where(map[0,-2] == 2)[0]) > 0 and player_direction == 1:\n",
    "            #print(\"Invalid move\")\n",
    "            return map\n",
    "        elif len(np.where(map[-1,-2] == 2)[0]) > 0 and player_direction == 2:   \n",
    "            #print(\"Invalid move\")\n",
    "            return map\n",
    "\n",
    "    # Move player if not static\n",
    "    if player_direction > 0 :\n",
    "        player_position = np.where(map == player)\n",
    "        map[player_position[0],player_position[1][0]] = 0 # Clear old position\n",
    "        if player_direction == 1: map[player_position[0]-1,player_position[1][0]] = player\n",
    "        if player_direction == 2: map[player_position[0]+1,player_position[1][0]] = player\n",
    "\n",
    "    return map\n",
    "\n",
    "player1_direction = Player1Direction.UP\n",
    "player2_direction = Player1Direction.DOWN\n",
    "map = move_player(map, PLAYER_1, player1_direction)\n",
    "map = move_player(map, PLAYER_2, player2_direction)\n",
    "map"
   ]
  }
 ],
 "metadata": {
  "kernelspec": {
   "display_name": "Python 3.10.7 ('venv': venv)",
   "language": "python",
   "name": "python3"
  },
  "language_info": {
   "codemirror_mode": {
    "name": "ipython",
    "version": 3
   },
   "file_extension": ".py",
   "mimetype": "text/x-python",
   "name": "python",
   "nbconvert_exporter": "python",
   "pygments_lexer": "ipython3",
   "version": "3.10.7"
  },
  "orig_nbformat": 4,
  "vscode": {
   "interpreter": {
    "hash": "d6c08a6d50f5c3d85da60a964296d15649d8dd0af6deb4622caa68588b6211a9"
   }
  }
 },
 "nbformat": 4,
 "nbformat_minor": 2
}
